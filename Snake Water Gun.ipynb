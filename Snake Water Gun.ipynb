{
 "cells": [
  {
   "cell_type": "code",
   "execution_count": 1,
   "id": "d8c55d8c",
   "metadata": {},
   "outputs": [
    {
     "name": "stdout",
     "output_type": "stream",
     "text": [
      "\tcomputer has choosen from stone(s), paper(p), scissors(c) \n",
      "\tYour turn,choose from stone(s), paper(p), scissors(c)      s\n",
      "computer has choosen\n",
      "c\n",
      "you have choosen\n",
      "s\n",
      "You have won the Game!!!\n"
     ]
    }
   ],
   "source": [
    "#Author : Harpalsinh Jhala\n",
    "#Date   : 22/01/2022\n",
    "\n",
    "#defining function of game result\n",
    "import random\n",
    "\n",
    "\n",
    "def game_result(player,comp):\n",
    "    if player == comp:\n",
    "        return None\n",
    "\n",
    "    if player == \"s\":\n",
    "        if comp == \"p\":\n",
    "            return False\n",
    "        elif comp == \"c\":\n",
    "            return True\n",
    "\n",
    "    elif player == \"p\":\n",
    "        if comp == \"s\":\n",
    "            return True\n",
    "        elif comp == \"c\":\n",
    "            return False\n",
    "\n",
    "    else:\n",
    "        if comp == \"p\":\n",
    "            return True\n",
    "        elif comp == \"s\":\n",
    "            return False\n",
    "\n",
    "\n",
    "\n",
    "#random function used to make selection of computer random\n",
    "num = random.randint(1, 3)\n",
    "\n",
    "if num == 1:\n",
    "    co = \"s\"\n",
    "elif num == 2:\n",
    "    co = \"p\"\n",
    "else:\n",
    "    co = \"c\"\n",
    "\n",
    "\n",
    "\n",
    "#taking input of what player has choosen\n",
    "print(\"\\tcomputer has choosen from stone(s), paper(p), scissors(c) \")\n",
    "pla= input(\"\\tYour turn,choose from stone(s), paper(p), scissors(c)      \") \n",
    "\n",
    "print(f\"computer has choosen\\n{co}\")\n",
    "print(f\"you have choosen\\n{pla}\")\n",
    "\n",
    "\n",
    "#calling  the function and executing the output\n",
    "winner = game_result(pla,co)\n",
    "if winner:\n",
    "    print(\"You have won the Game!!!\")\n",
    "elif winner == None:\n",
    "    print(\"Game has Tied!!!\")\n",
    "else:\n",
    "    print(\"You have lost the Game!!!\")"
   ]
  },
  {
   "cell_type": "code",
   "execution_count": null,
   "id": "66c79720",
   "metadata": {},
   "outputs": [],
   "source": []
  }
 ],
 "metadata": {
  "kernelspec": {
   "display_name": "Python 3 (ipykernel)",
   "language": "python",
   "name": "python3"
  },
  "language_info": {
   "codemirror_mode": {
    "name": "ipython",
    "version": 3
   },
   "file_extension": ".py",
   "mimetype": "text/x-python",
   "name": "python",
   "nbconvert_exporter": "python",
   "pygments_lexer": "ipython3",
   "version": "3.10.10"
  }
 },
 "nbformat": 4,
 "nbformat_minor": 5
}
